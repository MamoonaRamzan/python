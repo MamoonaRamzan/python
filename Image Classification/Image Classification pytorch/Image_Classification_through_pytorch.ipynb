{
  "nbformat": 4,
  "nbformat_minor": 0,
  "metadata": {
    "colab": {
      "provenance": [],
      "gpuType": "T4"
    },
    "kernelspec": {
      "name": "python3",
      "display_name": "Python 3"
    },
    "language_info": {
      "name": "python"
    },
    "accelerator": "GPU"
  },
  "cells": [
    {
      "cell_type": "code",
      "execution_count": null,
      "metadata": {
        "id": "1lvDO96Zr0mE"
      },
      "outputs": [],
      "source": [
        "from torch import nn\n",
        "from torch.utils.data import DataLoader\n",
        "from torchvision import datasets\n",
        "from torchvision.transforms import ToTensor, Lambda, Compose\n",
        "import matplotlib.pyplot as plt"
      ]
    },
    {
      "cell_type": "code",
      "source": [
        "training_data=datasets.FashionMNIST(\n",
        "    root='data',\n",
        "    train=True,\n",
        "    download=True,\n",
        "    transform=ToTensor()\n",
        ")\n",
        "test_data=datasets.FashionMNIST(\n",
        "    root='data',\n",
        "    train=False,\n",
        "    download=True,\n",
        "    transform=ToTensor()\n",
        ")\n"
      ],
      "metadata": {
        "colab": {
          "base_uri": "https://localhost:8080/"
        },
        "id": "0lQ1GJ6ktdlD",
        "outputId": "38ea594f-3cea-433e-af4b-e73eb49d899b"
      },
      "execution_count": null,
      "outputs": [
        {
          "output_type": "stream",
          "name": "stderr",
          "text": [
            "100%|██████████| 26.4M/26.4M [00:02<00:00, 9.82MB/s]\n",
            "100%|██████████| 29.5k/29.5k [00:00<00:00, 169kB/s]\n",
            "100%|██████████| 4.42M/4.42M [00:01<00:00, 2.82MB/s]\n",
            "100%|██████████| 5.15k/5.15k [00:00<00:00, 12.6MB/s]\n"
          ]
        }
      ]
    },
    {
      "cell_type": "code",
      "source": [
        "batch_size=64\n",
        "train_dataloader=DataLoader(training_data, batch_size=batch_size)\n",
        "test_dataloader=DataLoader(test_data, batch_size=batch_size)"
      ],
      "metadata": {
        "id": "UTxcVPX4vXfJ"
      },
      "execution_count": null,
      "outputs": []
    },
    {
      "cell_type": "code",
      "source": [
        "import torch\n",
        "device = \"cuda\" if torch.cuda.is_available() else \"cpu\"\n",
        "device"
      ],
      "metadata": {
        "colab": {
          "base_uri": "https://localhost:8080/",
          "height": 35
        },
        "id": "A_fHbB-nv_Fh",
        "outputId": "009e351e-60be-4afa-b4bd-ac8b90535a4b"
      },
      "execution_count": null,
      "outputs": [
        {
          "output_type": "execute_result",
          "data": {
            "text/plain": [
              "'cuda'"
            ],
            "application/vnd.google.colaboratory.intrinsic+json": {
              "type": "string"
            }
          },
          "metadata": {},
          "execution_count": 19
        }
      ]
    },
    {
      "cell_type": "code",
      "source": [
        "class NeuralNetworks (nn.Module):\n",
        "    def __init__(self):\n",
        "        super(NeuralNetworks, self).__init__()\n",
        "        self.flatten = nn.Flatten()\n",
        "        self.linear_relu_stack= nn. Sequential(\n",
        "            nn. Linear(28*28, 512),\n",
        "            nn.ReLU(),\n",
        "            nn. Linear(512, 512),\n",
        "            nn.ReLU(),\n",
        "            nn. Linear(512, 10)\n",
        "        )\n",
        "    def forward(self,x):\n",
        "        x=self.flatten(x)\n",
        "        logits=self.linear_relu_stack(x)\n",
        "        return logits"
      ],
      "metadata": {
        "id": "uyQL1hPDwPET"
      },
      "execution_count": null,
      "outputs": []
    },
    {
      "cell_type": "code",
      "source": [
        "model= NeuralNetworks().to(device)\n",
        "print(model)"
      ],
      "metadata": {
        "colab": {
          "base_uri": "https://localhost:8080/"
        },
        "id": "kI431eM8zJSi",
        "outputId": "2d121b16-9bd8-46d2-f710-bd4d3a7047d6"
      },
      "execution_count": null,
      "outputs": [
        {
          "output_type": "stream",
          "name": "stdout",
          "text": [
            "NeuralNetworks(\n",
            "  (flatten): Flatten(start_dim=1, end_dim=-1)\n",
            "  (linear_relu_stack): Sequential(\n",
            "    (0): Linear(in_features=784, out_features=512, bias=True)\n",
            "    (1): ReLU()\n",
            "    (2): Linear(in_features=512, out_features=512, bias=True)\n",
            "    (3): ReLU()\n",
            "    (4): Linear(in_features=512, out_features=10, bias=True)\n",
            "  )\n",
            ")\n"
          ]
        }
      ]
    },
    {
      "cell_type": "code",
      "source": [
        "loss_fn=nn.CrossEntropyLoss()\n",
        "optimizer= torch.optim.SGD(model.parameters(),lr=1e-3)"
      ],
      "metadata": {
        "id": "92W9zSlMzv2V"
      },
      "execution_count": null,
      "outputs": []
    },
    {
      "cell_type": "code",
      "source": [
        "def train(dataloader, model, loss_fn, optimizer):\n",
        "  size=len(dataloader.dataset)\n",
        "  model.train()\n",
        "  for batch, (X,Y) in enumerate(dataloader):\n",
        "    X,Y=X.to(device),Y.to(device)\n",
        "\n",
        "    pred=model(X)\n",
        "    loss=loss_fn(pred,Y)\n",
        "\n",
        "    optimizer.zero_grad()\n",
        "    loss.backward()\n",
        "    optimizer.step()\n",
        "\n",
        "    if batch % 100 == 0:\n",
        "      loss, current= loss.item(), batch * len(X)\n",
        "      print(f\"loss: {loss:>7f} [{current:>5d}/{size:>5d}]\")"
      ],
      "metadata": {
        "id": "qSnPcPSC0QkW"
      },
      "execution_count": null,
      "outputs": []
    },
    {
      "cell_type": "code",
      "source": [
        "def test(dataloader, model, loss_fn):\n",
        "  size=len(dataloader.dataset)\n",
        "  num_batches=len(dataloader)\n",
        "  model.eval()\n",
        "  test_loss, correct=0,0\n",
        "  with torch.no_grad():\n",
        "    for X,y in dataloader:\n",
        "      X,y=X.to(device),y.to(device)\n",
        "      pred=model(X)\n",
        "      test_loss += loss_fn(pred,y).item()\n",
        "      correct+=(pred.argmax(1)==y).type(torch.float).sum().item()\n",
        "  test_loss /= num_batches\n",
        "  correct /= size\n",
        "  print(f\"Test Error: \\n Accuracy: {(100*correct):>0.1f}%, Avg loss: {test_loss:>8f} \\n\")"
      ],
      "metadata": {
        "id": "nbWLq1Jt2Bww"
      },
      "execution_count": null,
      "outputs": []
    },
    {
      "cell_type": "code",
      "source": [
        "epochs =20\n",
        "for t in range(epochs):\n",
        "  print(f\"Epoch{t+1}\\n---------------------------\")\n",
        "  train(train_dataloader, model, loss_fn, optimizer)\n",
        "  test(test_dataloader, model, loss_fn)\n",
        "print(\"Done!\")"
      ],
      "metadata": {
        "colab": {
          "base_uri": "https://localhost:8080/"
        },
        "id": "wTCbbfB63XOo",
        "outputId": "a95aab09-d226-4118-9bf8-48e2bf210924"
      },
      "execution_count": null,
      "outputs": [
        {
          "output_type": "stream",
          "name": "stdout",
          "text": [
            "Epoch1\n",
            "---------------------------\n",
            "loss: 2.300239 [    0/60000]\n",
            "loss: 2.298120 [ 6400/60000]\n",
            "loss: 2.276182 [12800/60000]\n",
            "loss: 2.268623 [19200/60000]\n",
            "loss: 2.260895 [25600/60000]\n",
            "loss: 2.224757 [32000/60000]\n",
            "loss: 2.238086 [38400/60000]\n",
            "loss: 2.200205 [44800/60000]\n",
            "loss: 2.193989 [51200/60000]\n",
            "loss: 2.169950 [57600/60000]\n",
            "Test Error: \n",
            " Accuracy: 42.1%, Avg loss: 2.159010 \n",
            "\n",
            "Epoch2\n",
            "---------------------------\n",
            "loss: 2.168904 [    0/60000]\n",
            "loss: 2.165533 [ 6400/60000]\n",
            "loss: 2.105788 [12800/60000]\n",
            "loss: 2.117523 [19200/60000]\n",
            "loss: 2.076804 [25600/60000]\n",
            "loss: 2.015951 [32000/60000]\n",
            "loss: 2.048612 [38400/60000]\n",
            "loss: 1.970818 [44800/60000]\n",
            "loss: 1.970886 [51200/60000]\n",
            "loss: 1.901646 [57600/60000]\n",
            "Test Error: \n",
            " Accuracy: 58.2%, Avg loss: 1.895533 \n",
            "\n",
            "Epoch3\n",
            "---------------------------\n",
            "loss: 1.928545 [    0/60000]\n",
            "loss: 1.905715 [ 6400/60000]\n",
            "loss: 1.783320 [12800/60000]\n",
            "loss: 1.818593 [19200/60000]\n",
            "loss: 1.722906 [25600/60000]\n",
            "loss: 1.670426 [32000/60000]\n",
            "loss: 1.698788 [38400/60000]\n",
            "loss: 1.600577 [44800/60000]\n",
            "loss: 1.622477 [51200/60000]\n",
            "loss: 1.515162 [57600/60000]\n",
            "Test Error: \n",
            " Accuracy: 60.6%, Avg loss: 1.530798 \n",
            "\n",
            "Epoch4\n",
            "---------------------------\n",
            "loss: 1.596115 [    0/60000]\n",
            "loss: 1.567402 [ 6400/60000]\n",
            "loss: 1.414683 [12800/60000]\n",
            "loss: 1.482543 [19200/60000]\n",
            "loss: 1.371245 [25600/60000]\n",
            "loss: 1.365772 [32000/60000]\n",
            "loss: 1.385427 [38400/60000]\n",
            "loss: 1.313525 [44800/60000]\n",
            "loss: 1.343596 [51200/60000]\n",
            "loss: 1.238110 [57600/60000]\n",
            "Test Error: \n",
            " Accuracy: 63.1%, Avg loss: 1.264900 \n",
            "\n",
            "Epoch5\n",
            "---------------------------\n",
            "loss: 1.341491 [    0/60000]\n",
            "loss: 1.328169 [ 6400/60000]\n",
            "loss: 1.162587 [12800/60000]\n",
            "loss: 1.259928 [19200/60000]\n",
            "loss: 1.137085 [25600/60000]\n",
            "loss: 1.168406 [32000/60000]\n",
            "loss: 1.190371 [38400/60000]\n",
            "loss: 1.134970 [44800/60000]\n",
            "loss: 1.164288 [51200/60000]\n",
            "loss: 1.073240 [57600/60000]\n",
            "Test Error: \n",
            " Accuracy: 64.8%, Avg loss: 1.096244 \n",
            "\n",
            "Epoch6\n",
            "---------------------------\n",
            "loss: 1.167118 [    0/60000]\n",
            "loss: 1.174803 [ 6400/60000]\n",
            "loss: 0.992792 [12800/60000]\n",
            "loss: 1.117074 [19200/60000]\n",
            "loss: 0.987651 [25600/60000]\n",
            "loss: 1.031527 [32000/60000]\n",
            "loss: 1.066088 [38400/60000]\n",
            "loss: 1.018246 [44800/60000]\n",
            "loss: 1.045331 [51200/60000]\n",
            "loss: 0.967417 [57600/60000]\n",
            "Test Error: \n",
            " Accuracy: 66.2%, Avg loss: 0.985377 \n",
            "\n",
            "Epoch7\n",
            "---------------------------\n",
            "loss: 1.043741 [    0/60000]\n",
            "loss: 1.073616 [ 6400/60000]\n",
            "loss: 0.874183 [12800/60000]\n",
            "loss: 1.021126 [19200/60000]\n",
            "loss: 0.892502 [25600/60000]\n",
            "loss: 0.933239 [32000/60000]\n",
            "loss: 0.983324 [38400/60000]\n",
            "loss: 0.940744 [44800/60000]\n",
            "loss: 0.962722 [51200/60000]\n",
            "loss: 0.896331 [57600/60000]\n",
            "Test Error: \n",
            " Accuracy: 67.4%, Avg loss: 0.909588 \n",
            "\n",
            "Epoch8\n",
            "---------------------------\n",
            "loss: 0.952683 [    0/60000]\n",
            "loss: 1.002946 [ 6400/60000]\n",
            "loss: 0.788792 [12800/60000]\n",
            "loss: 0.953954 [19200/60000]\n",
            "loss: 0.829073 [25600/60000]\n",
            "loss: 0.861029 [32000/60000]\n",
            "loss: 0.925050 [38400/60000]\n",
            "loss: 0.888601 [44800/60000]\n",
            "loss: 0.903062 [51200/60000]\n",
            "loss: 0.845828 [57600/60000]\n",
            "Test Error: \n",
            " Accuracy: 68.7%, Avg loss: 0.855354 \n",
            "\n",
            "Epoch9\n",
            "---------------------------\n",
            "loss: 0.882826 [    0/60000]\n",
            "loss: 0.949983 [ 6400/60000]\n",
            "loss: 0.725222 [12800/60000]\n",
            "loss: 0.904819 [19200/60000]\n",
            "loss: 0.784308 [25600/60000]\n",
            "loss: 0.806805 [32000/60000]\n",
            "loss: 0.881231 [38400/60000]\n",
            "loss: 0.852322 [44800/60000]\n",
            "loss: 0.858439 [51200/60000]\n",
            "loss: 0.807739 [57600/60000]\n",
            "Test Error: \n",
            " Accuracy: 69.7%, Avg loss: 0.814682 \n",
            "\n",
            "Epoch10\n",
            "---------------------------\n",
            "loss: 0.827349 [    0/60000]\n",
            "loss: 0.907848 [ 6400/60000]\n",
            "loss: 0.676187 [12800/60000]\n",
            "loss: 0.867471 [19200/60000]\n",
            "loss: 0.751249 [25600/60000]\n",
            "loss: 0.765618 [32000/60000]\n",
            "loss: 0.846650 [38400/60000]\n",
            "loss: 0.825538 [44800/60000]\n",
            "loss: 0.824001 [51200/60000]\n",
            "loss: 0.777713 [57600/60000]\n",
            "Test Error: \n",
            " Accuracy: 70.9%, Avg loss: 0.782758 \n",
            "\n",
            "Epoch11\n",
            "---------------------------\n",
            "loss: 0.782022 [    0/60000]\n",
            "loss: 0.872645 [ 6400/60000]\n",
            "loss: 0.637094 [12800/60000]\n",
            "loss: 0.838291 [19200/60000]\n",
            "loss: 0.725309 [25600/60000]\n",
            "loss: 0.733673 [32000/60000]\n",
            "loss: 0.817736 [38400/60000]\n",
            "loss: 0.804450 [44800/60000]\n",
            "loss: 0.796280 [51200/60000]\n",
            "loss: 0.752609 [57600/60000]\n",
            "Test Error: \n",
            " Accuracy: 72.3%, Avg loss: 0.756508 \n",
            "\n",
            "Epoch12\n",
            "---------------------------\n",
            "loss: 0.743960 [    0/60000]\n",
            "loss: 0.841802 [ 6400/60000]\n",
            "loss: 0.604928 [12800/60000]\n",
            "loss: 0.814602 [19200/60000]\n",
            "loss: 0.704047 [25600/60000]\n",
            "loss: 0.708354 [32000/60000]\n",
            "loss: 0.792520 [38400/60000]\n",
            "loss: 0.786980 [44800/60000]\n",
            "loss: 0.773182 [51200/60000]\n",
            "loss: 0.730923 [57600/60000]\n",
            "Test Error: \n",
            " Accuracy: 73.5%, Avg loss: 0.734067 \n",
            "\n",
            "Epoch13\n",
            "---------------------------\n",
            "loss: 0.711177 [    0/60000]\n",
            "loss: 0.814160 [ 6400/60000]\n",
            "loss: 0.577794 [12800/60000]\n",
            "loss: 0.794706 [19200/60000]\n",
            "loss: 0.685963 [25600/60000]\n",
            "loss: 0.687609 [32000/60000]\n",
            "loss: 0.769800 [38400/60000]\n",
            "loss: 0.771844 [44800/60000]\n",
            "loss: 0.753363 [51200/60000]\n",
            "loss: 0.711646 [57600/60000]\n",
            "Test Error: \n",
            " Accuracy: 74.4%, Avg loss: 0.714292 \n",
            "\n",
            "Epoch14\n",
            "---------------------------\n",
            "loss: 0.682438 [    0/60000]\n",
            "loss: 0.789099 [ 6400/60000]\n",
            "loss: 0.554409 [12800/60000]\n",
            "loss: 0.777538 [19200/60000]\n",
            "loss: 0.670367 [25600/60000]\n",
            "loss: 0.670218 [32000/60000]\n",
            "loss: 0.748829 [38400/60000]\n",
            "loss: 0.758269 [44800/60000]\n",
            "loss: 0.736048 [51200/60000]\n",
            "loss: 0.694274 [57600/60000]\n",
            "Test Error: \n",
            " Accuracy: 75.1%, Avg loss: 0.696498 \n",
            "\n",
            "Epoch15\n",
            "---------------------------\n",
            "loss: 0.656866 [    0/60000]\n",
            "loss: 0.766001 [ 6400/60000]\n",
            "loss: 0.533934 [12800/60000]\n",
            "loss: 0.762367 [19200/60000]\n",
            "loss: 0.656648 [25600/60000]\n",
            "loss: 0.655379 [32000/60000]\n",
            "loss: 0.729439 [38400/60000]\n",
            "loss: 0.746023 [44800/60000]\n",
            "loss: 0.720796 [51200/60000]\n",
            "loss: 0.678409 [57600/60000]\n",
            "Test Error: \n",
            " Accuracy: 76.0%, Avg loss: 0.680291 \n",
            "\n",
            "Epoch16\n",
            "---------------------------\n",
            "loss: 0.633978 [    0/60000]\n",
            "loss: 0.744679 [ 6400/60000]\n",
            "loss: 0.515777 [12800/60000]\n",
            "loss: 0.748721 [19200/60000]\n",
            "loss: 0.644512 [25600/60000]\n",
            "loss: 0.642540 [32000/60000]\n",
            "loss: 0.711320 [38400/60000]\n",
            "loss: 0.735045 [44800/60000]\n",
            "loss: 0.707438 [51200/60000]\n",
            "loss: 0.663798 [57600/60000]\n",
            "Test Error: \n",
            " Accuracy: 76.6%, Avg loss: 0.665435 \n",
            "\n",
            "Epoch17\n",
            "---------------------------\n",
            "loss: 0.613486 [    0/60000]\n",
            "loss: 0.724965 [ 6400/60000]\n",
            "loss: 0.499587 [12800/60000]\n",
            "loss: 0.736250 [19200/60000]\n",
            "loss: 0.633768 [25600/60000]\n",
            "loss: 0.631297 [32000/60000]\n",
            "loss: 0.694362 [38400/60000]\n",
            "loss: 0.725175 [44800/60000]\n",
            "loss: 0.695651 [51200/60000]\n",
            "loss: 0.650206 [57600/60000]\n",
            "Test Error: \n",
            " Accuracy: 77.1%, Avg loss: 0.651770 \n",
            "\n",
            "Epoch18\n",
            "---------------------------\n",
            "loss: 0.595020 [    0/60000]\n",
            "loss: 0.706769 [ 6400/60000]\n",
            "loss: 0.485059 [12800/60000]\n",
            "loss: 0.724764 [19200/60000]\n",
            "loss: 0.624169 [25600/60000]\n",
            "loss: 0.621421 [32000/60000]\n",
            "loss: 0.678521 [38400/60000]\n",
            "loss: 0.716460 [44800/60000]\n",
            "loss: 0.685371 [51200/60000]\n",
            "loss: 0.637479 [57600/60000]\n",
            "Test Error: \n",
            " Accuracy: 77.4%, Avg loss: 0.639184 \n",
            "\n",
            "Epoch19\n",
            "---------------------------\n",
            "loss: 0.578254 [    0/60000]\n",
            "loss: 0.690024 [ 6400/60000]\n",
            "loss: 0.471944 [12800/60000]\n",
            "loss: 0.714079 [19200/60000]\n",
            "loss: 0.615542 [25600/60000]\n",
            "loss: 0.612577 [32000/60000]\n",
            "loss: 0.663649 [38400/60000]\n",
            "loss: 0.708834 [44800/60000]\n",
            "loss: 0.676449 [51200/60000]\n",
            "loss: 0.625492 [57600/60000]\n",
            "Test Error: \n",
            " Accuracy: 77.9%, Avg loss: 0.627596 \n",
            "\n",
            "Epoch20\n",
            "---------------------------\n",
            "loss: 0.562999 [    0/60000]\n",
            "loss: 0.674614 [ 6400/60000]\n",
            "loss: 0.460073 [12800/60000]\n",
            "loss: 0.704097 [19200/60000]\n",
            "loss: 0.607710 [25600/60000]\n",
            "loss: 0.604668 [32000/60000]\n",
            "loss: 0.649746 [38400/60000]\n",
            "loss: 0.702359 [44800/60000]\n",
            "loss: 0.668850 [51200/60000]\n",
            "loss: 0.614170 [57600/60000]\n",
            "Test Error: \n",
            " Accuracy: 78.5%, Avg loss: 0.616923 \n",
            "\n",
            "Done!\n"
          ]
        }
      ]
    },
    {
      "cell_type": "code",
      "source": [
        "torch.save(model.state_dict(),\"model.pth\")\n",
        "print(\"Model Saved!\")"
      ],
      "metadata": {
        "colab": {
          "base_uri": "https://localhost:8080/"
        },
        "id": "T0QgO4YY4OUR",
        "outputId": "6201edb1-9295-4714-dbbf-c0951ae74a09"
      },
      "execution_count": null,
      "outputs": [
        {
          "output_type": "stream",
          "name": "stdout",
          "text": [
            "Model Saved!\n"
          ]
        }
      ]
    }
  ]
}